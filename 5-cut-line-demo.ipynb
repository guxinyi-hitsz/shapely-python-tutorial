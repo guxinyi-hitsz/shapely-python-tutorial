{
 "cells": [
  {
   "cell_type": "markdown",
   "id": "49c0282c-e632-4578-8f18-cbf25714c189",
   "metadata": {},
   "source": [
    "## 示例：按长度切割曲线"
   ]
  },
  {
   "cell_type": "markdown",
   "id": "6cc1c239-ace0-4a2b-bb70-7f95a587b3b1",
   "metadata": {},
   "source": [
    "### 1. 自定义函数"
   ]
  },
  {
   "cell_type": "code",
   "execution_count": 1,
   "id": "842a7c09-fbe2-43a1-bfca-f4b61be4b972",
   "metadata": {},
   "outputs": [],
   "source": [
    "from shapely.geometry import Point, LineString\n",
    "\n",
    "# Cuts a line in two at a distance from its starting point\n",
    "def cut(line, distance):\n",
    "    if distance <= 0.0 or distance >= line.length:\n",
    "        return [LineString(line)]\n",
    "    coords = list(line.coords)\n",
    "    for i, p in enumerate(coords):\n",
    "        pd = line.project(Point(p))\n",
    "        if pd == distance:\n",
    "            # cut point is coord[i]\n",
    "            return [\n",
    "                LineString(coords[:i+1]),\n",
    "                LineString(coords[i:])]\n",
    "        if pd > distance:\n",
    "            # cut point is between coord[i-1] and coord[i]\n",
    "            cp = line.interpolate(distance)\n",
    "            return [\n",
    "                LineString(coords[:i] + [(cp.x, cp.y)]),\n",
    "                LineString([(cp.x, cp.y)] + coords[i:])]"
   ]
  },
  {
   "cell_type": "code",
   "execution_count": 2,
   "id": "a26d36ff-10de-4d7f-a124-8ce6dff3e85a",
   "metadata": {},
   "outputs": [
    {
     "name": "stdout",
     "output_type": "stream",
     "text": [
      "[[(0.0, 0.0), (1.0, 0.0)], [(1.0, 0.0), (2.0, 0.0), (3.0, 0.0), (4.0, 0.0), (5.0, 0.0)]]\n",
      "[1.0, 4.0]\n",
      "[[(0.0, 0.0), (1.0, 0.0), (2.0, 0.0), (2.5, 0.0)], [(2.5, 0.0), (3.0, 0.0), (4.0, 0.0), (5.0, 0.0)]]\n",
      "[2.5, 2.5]\n"
     ]
    }
   ],
   "source": [
    "line = LineString([(0, 0), (1, 0), (2, 0), (3, 0), (4, 0), (5, 0)])\n",
    "print([list(x.coords) for x in cut(line, 1.0)])\n",
    "print([x.length for x in cut(line, 1.0)])\n",
    "print([list(x.coords) for x in cut(line, 2.5)])\n",
    "print([x.length for x in cut(line, 2.5)])"
   ]
  },
  {
   "cell_type": "markdown",
   "id": "4de94762-9ef8-46d2-831a-d0e365c16414",
   "metadata": {},
   "source": [
    "### 2. 内置方法 substring"
   ]
  },
  {
   "cell_type": "code",
   "execution_count": 8,
   "id": "af481102-b414-45d9-8411-4cd73cf94221",
   "metadata": {},
   "outputs": [
    {
     "data": {
      "text/plain": [
       "[(0.0, 0.0), (1.0, 0.0), (2.0, 0.0), (2.5, 0.0)]"
      ]
     },
     "execution_count": 8,
     "metadata": {},
     "output_type": "execute_result"
    }
   ],
   "source": [
    "from shapely.ops import substring\n",
    "x = substring(line, start_dist=0, end_dist=2.5)\n",
    "list(x.coords)"
   ]
  },
  {
   "cell_type": "code",
   "execution_count": 10,
   "id": "2adf2a12-9a7c-48df-a80d-76acd58010eb",
   "metadata": {},
   "outputs": [
    {
     "data": {
      "text/plain": [
       "[(1.0, 0.0), (2.0, 0.0), (3.0, 0.0)]"
      ]
     },
     "execution_count": 10,
     "metadata": {},
     "output_type": "execute_result"
    }
   ],
   "source": [
    "'''\n",
    "If \"normalized\" is True, \n",
    "the distance will be interpreted as a fraction of the geometry’s length\n",
    "'''\n",
    "x = substring(line, start_dist=0.2, end_dist=0.6, normalized=True)\n",
    "list(x.coords)"
   ]
  },
  {
   "cell_type": "markdown",
   "id": "91eb4c39-dd24-4f0e-9694-22af2b5ff4d4",
   "metadata": {},
   "source": [
    "## 示例：按点切割曲线"
   ]
  },
  {
   "cell_type": "code",
   "execution_count": 17,
   "id": "3202b27c-8446-4a8a-b2a8-08e66f6e5343",
   "metadata": {},
   "outputs": [
    {
     "name": "stdout",
     "output_type": "stream",
     "text": [
      "[[(0.0, 0.0), (1.0, 1.0)], [(1.0, 1.0), (2.0, 2.0)]]\n",
      "[1.4142135623730951, 1.4142135623730951]\n"
     ]
    }
   ],
   "source": [
    "from shapely.ops import split, MultiLineString\n",
    "pt = Point((1, 1))\n",
    "line = LineString([(0,0), (2,2)])\n",
    "cut = split(line, pt)\n",
    "print([list(x.coords) for x in list(cut.geoms)])\n",
    "print([x.length for x in list(cut.geoms)])"
   ]
  },
  {
   "cell_type": "code",
   "execution_count": null,
   "id": "f357167c-0b96-4096-bfcb-521f7e88d0f2",
   "metadata": {},
   "outputs": [],
   "source": []
  }
 ],
 "metadata": {
  "kernelspec": {
   "display_name": "Python 3 (ipykernel)",
   "language": "python",
   "name": "python3"
  },
  "language_info": {
   "codemirror_mode": {
    "name": "ipython",
    "version": 3
   },
   "file_extension": ".py",
   "mimetype": "text/x-python",
   "name": "python",
   "nbconvert_exporter": "python",
   "pygments_lexer": "ipython3",
   "version": "3.7.7"
  }
 },
 "nbformat": 4,
 "nbformat_minor": 5
}
