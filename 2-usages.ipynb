{
 "cells": [
  {
   "cell_type": "markdown",
   "id": "8d1d389c-73ac-42f0-a2ac-012aa9a1af6c",
   "metadata": {},
   "source": [
    "# 1. filter"
   ]
  },
  {
   "cell_type": "code",
   "execution_count": 2,
   "id": "842eb5e2-1ce7-4d79-b174-59ea0856c4bb",
   "metadata": {},
   "outputs": [
    {
     "data": {
      "text/plain": [
       "1"
      ]
     },
     "execution_count": 2,
     "metadata": {},
     "output_type": "execute_result"
    }
   ],
   "source": [
    "# 一元属性\n",
    "from shapely.geometry import Point\n",
    "from operator import attrgetter\n",
    "\n",
    "empties = filter(attrgetter('is_empty'), [Point(), Point(0, 0)])\n",
    "len(list(empties))"
   ]
  },
  {
   "cell_type": "code",
   "execution_count": 8,
   "id": "c4f4db9f-9193-4fdd-94c1-5c118221b2b9",
   "metadata": {},
   "outputs": [
    {
     "data": {
      "text/plain": [
       "1"
      ]
     },
     "execution_count": 8,
     "metadata": {},
     "output_type": "execute_result"
    }
   ],
   "source": [
    "# 二元关系\n",
    "from shapely.geometry import LineString\n",
    "\n",
    "coords = [(0, 0), (1, 1)]\n",
    "line = LineString(coords)\n",
    "contained = list(filter(line.contains, [Point(0, 0), Point(0.5, 0.5), Point(1, 1)]))\n",
    "len(contained)"
   ]
  },
  {
   "cell_type": "code",
   "execution_count": 46,
   "id": "ad1cdbb1-2f4f-4826-8a64-bf5229968ada",
   "metadata": {},
   "outputs": [
    {
     "data": {
      "image/svg+xml": [
       "<svg xmlns=\"http://www.w3.org/2000/svg\" xmlns:xlink=\"http://www.w3.org/1999/xlink\" width=\"100.0\" height=\"100.0\" viewBox=\"-0.08 -0.08 2.16 2.16\" preserveAspectRatio=\"xMinYMin meet\"><g transform=\"matrix(1,0,0,-1,0,2.0)\"><g><polyline fill=\"none\" stroke=\"#66cc99\" stroke-width=\"0.0432\" points=\"0.0,0.0 1.0,1.0\" opacity=\"0.8\" /><circle cx=\"2.0\" cy=\"2.0\" r=\"0.0648\" stroke=\"#555555\" stroke-width=\"0.0216\" fill=\"#66cc99\" opacity=\"0.6\" /></g></g></svg>"
      ],
      "text/plain": [
       "<GEOMETRYCOLLECTION (LINESTRING (0 0, 1 1), POINT (2 2))>"
      ]
     },
     "execution_count": 46,
     "metadata": {},
     "output_type": "execute_result"
    }
   ],
   "source": [
    "# collection对象遍历\n",
    "a = LineString([(0, 0), (1, 1), (1,2), (2,2)])\n",
    "b = LineString([(0, 0), (1, 1), (2,1), (2,2)])\n",
    "x = a.intersection(b)\n",
    "x"
   ]
  },
  {
   "cell_type": "code",
   "execution_count": 48,
   "id": "dd1663aa-58f9-4d35-94b8-f3752b65458b",
   "metadata": {},
   "outputs": [
    {
     "name": "stdout",
     "output_type": "stream",
     "text": [
      "LINESTRING (0 0, 1 1)\n",
      "POINT (2 2)\n"
     ]
    }
   ],
   "source": [
    "for geom in list(x.geoms):\n",
    "    print(geom)"
   ]
  },
  {
   "cell_type": "markdown",
   "id": "48be7ab5-c3a7-483d-b7d3-4fcfef132091",
   "metadata": {},
   "source": [
    "# 2. 关系运算"
   ]
  },
  {
   "cell_type": "markdown",
   "id": "d7bbf3e2-b894-4b00-bfdd-1ba04bb78aa2",
   "metadata": {},
   "source": [
    "### equals"
   ]
  },
  {
   "cell_type": "code",
   "execution_count": 6,
   "id": "d9e3c3c7-52c9-4178-b58a-c164f05d13a9",
   "metadata": {},
   "outputs": [],
   "source": [
    "from shapely.geometry import Point, LineString, Polygon, MultiLineString\n",
    "\n",
    "a = LineString([(0, 0), (1, 1)])\n",
    "b = LineString([(0, 0), (0.5, 0.5), (1, 1)])\n",
    "c = LineString([(0, 0), (0, 0), (1, 1)])"
   ]
  },
  {
   "cell_type": "code",
   "execution_count": 12,
   "id": "dd4f354e-7915-47e5-a9ba-feeff6f9f66e",
   "metadata": {},
   "outputs": [
    {
     "data": {
      "text/plain": [
       "True"
      ]
     },
     "execution_count": 12,
     "metadata": {},
     "output_type": "execute_result"
    }
   ],
   "source": [
    "a.equals(b)"
   ]
  },
  {
   "cell_type": "code",
   "execution_count": 13,
   "id": "5b967545-30bc-464d-94f0-016c6bca81c4",
   "metadata": {},
   "outputs": [
    {
     "data": {
      "text/plain": [
       "True"
      ]
     },
     "execution_count": 13,
     "metadata": {},
     "output_type": "execute_result"
    }
   ],
   "source": [
    "b.equals(c)"
   ]
  },
  {
   "cell_type": "markdown",
   "id": "75161112-2c24-4bd0-892e-b6cc6acc08c9",
   "metadata": {},
   "source": [
    "### contains, covers"
   ]
  },
  {
   "cell_type": "code",
   "execution_count": 20,
   "id": "5fd39a36-ea8d-4522-a384-ee2779048bce",
   "metadata": {},
   "outputs": [
    {
     "data": {
      "text/plain": [
       "True"
      ]
     },
     "execution_count": 20,
     "metadata": {},
     "output_type": "execute_result"
    }
   ],
   "source": [
    "coords = [(0, 0), (1, 1)]\n",
    "LineString(coords).contains(Point(0.5, 0.5))"
   ]
  },
  {
   "cell_type": "code",
   "execution_count": 16,
   "id": "79d25006-5aca-48c0-a4b3-adbfc0159bb4",
   "metadata": {},
   "outputs": [
    {
     "data": {
      "text/plain": [
       "False"
      ]
     },
     "execution_count": 16,
     "metadata": {},
     "output_type": "execute_result"
    }
   ],
   "source": [
    "LineString(coords).contains(Point(1.0, 1.0))"
   ]
  },
  {
   "cell_type": "code",
   "execution_count": 17,
   "id": "5f1dcadc-d15d-458a-9fc6-44582e1d1f5e",
   "metadata": {},
   "outputs": [
    {
     "data": {
      "text/plain": [
       "True"
      ]
     },
     "execution_count": 17,
     "metadata": {},
     "output_type": "execute_result"
    }
   ],
   "source": [
    "LineString(coords).covers(Point(1.0, 1.0))"
   ]
  },
  {
   "cell_type": "markdown",
   "id": "a36e047f-8191-43fe-b4e6-4e982ffc40af",
   "metadata": {},
   "source": [
    "### within"
   ]
  },
  {
   "cell_type": "code",
   "execution_count": 19,
   "id": "7e1ae952-29a0-4b77-a404-3562df0e21e6",
   "metadata": {},
   "outputs": [
    {
     "data": {
      "text/plain": [
       "True"
      ]
     },
     "execution_count": 19,
     "metadata": {},
     "output_type": "execute_result"
    }
   ],
   "source": [
    "Point(0.5, 0.5).within(LineString(coords))"
   ]
  },
  {
   "cell_type": "markdown",
   "id": "52f50eb7-3a3e-4ca0-839c-270e1db7759e",
   "metadata": {},
   "source": [
    "### crosses: intersects but not contain"
   ]
  },
  {
   "cell_type": "code",
   "execution_count": 21,
   "id": "ef91b5f7-b63f-4dcf-90c1-14842dc9d062",
   "metadata": {},
   "outputs": [
    {
     "data": {
      "text/plain": [
       "True"
      ]
     },
     "execution_count": 21,
     "metadata": {},
     "output_type": "execute_result"
    }
   ],
   "source": [
    "coords = [(0, 0), (1, 1)]\n",
    "LineString(coords).crosses(LineString([(0, 1), (1, 0)]))"
   ]
  },
  {
   "cell_type": "code",
   "execution_count": 22,
   "id": "92c18601-629c-4f21-9216-7b0f76b79448",
   "metadata": {},
   "outputs": [
    {
     "data": {
      "text/plain": [
       "False"
      ]
     },
     "execution_count": 22,
     "metadata": {},
     "output_type": "execute_result"
    }
   ],
   "source": [
    "LineString(coords).crosses(Point(0.5, 0.5))"
   ]
  },
  {
   "cell_type": "markdown",
   "id": "254c060f-4861-4f8f-a3f1-2ae61ce9f10c",
   "metadata": {},
   "source": [
    "### disjoint: not intersect at all"
   ]
  },
  {
   "cell_type": "code",
   "execution_count": 23,
   "id": "5ddeca9c-c25c-4d6e-a994-2a4765d16ec5",
   "metadata": {},
   "outputs": [
    {
     "data": {
      "text/plain": [
       "True"
      ]
     },
     "execution_count": 23,
     "metadata": {},
     "output_type": "execute_result"
    }
   ],
   "source": [
    "Point(0, 0).disjoint(Point(1, 1))"
   ]
  },
  {
   "cell_type": "markdown",
   "id": "ef3e9c67-dcb2-4d09-87a0-c564ac268713",
   "metadata": {},
   "source": [
    "### intersect: have any boundary or interior point in common"
   ]
  },
  {
   "cell_type": "code",
   "execution_count": 25,
   "id": "82192f0e-092f-48f5-8a1e-6b8f4e7d4fc0",
   "metadata": {},
   "outputs": [
    {
     "data": {
      "text/plain": [
       "False"
      ]
     },
     "execution_count": 25,
     "metadata": {},
     "output_type": "execute_result"
    }
   ],
   "source": [
    "Point(0, 0).intersects(Point(1, 1))"
   ]
  },
  {
   "cell_type": "markdown",
   "id": "4d410a76-6cb4-4cb6-954b-4f3d17e208e8",
   "metadata": {},
   "source": [
    "### overlaps:  the intersection has the same dimension"
   ]
  },
  {
   "cell_type": "code",
   "execution_count": 26,
   "id": "2b28329f-5573-41b2-b2e4-c9c5aa784be2",
   "metadata": {},
   "outputs": [
    {
     "data": {
      "text/plain": [
       "True"
      ]
     },
     "execution_count": 26,
     "metadata": {},
     "output_type": "execute_result"
    }
   ],
   "source": [
    "a = LineString([(0, 0), (1, 1)])\n",
    "b = LineString([(0.5, 0.5), (2, 2)])\n",
    "c = LineString([(1, 1), (2, 2)])\n",
    "\n",
    "a.overlaps(b)"
   ]
  },
  {
   "cell_type": "code",
   "execution_count": 27,
   "id": "53d7993b-9644-409c-82fb-0b9d1ab80b62",
   "metadata": {},
   "outputs": [
    {
     "data": {
      "text/plain": [
       "False"
      ]
     },
     "execution_count": 27,
     "metadata": {},
     "output_type": "execute_result"
    }
   ],
   "source": [
    "a.overlaps(c)"
   ]
  },
  {
   "cell_type": "markdown",
   "id": "c40fa141-f64a-4806-8c90-9a6417ecb4c9",
   "metadata": {},
   "source": [
    "### touches: have boundary points in common and their interiors do not intersect"
   ]
  },
  {
   "cell_type": "code",
   "execution_count": 29,
   "id": "20f535b4-f6ca-4711-b97b-b61bd22d8252",
   "metadata": {},
   "outputs": [
    {
     "data": {
      "text/plain": [
       "True"
      ]
     },
     "execution_count": 29,
     "metadata": {},
     "output_type": "execute_result"
    }
   ],
   "source": [
    "a = LineString([(0, 0), (1, 1)])\n",
    "b = LineString([(1, 1), (2, 2)])\n",
    "a.touches(b)"
   ]
  },
  {
   "cell_type": "markdown",
   "id": "ec2feefb-3cf9-4b37-843b-cb3bd8066f76",
   "metadata": {},
   "source": [
    "### relate: Returns a string representation of the DE-9IM matrix of relationships\n",
    "\n",
    "DE-9IM，全称是Dimensionally Extended nine-Intersection Model (DE-9IM)，是一种拓扑模型，用于描述两个几何图形空间关系的一种标准。模型将每个几何图形分为三部分：外部exterior,边界boundary和内部interior。\n",
    "3x3矩阵枚举了9种 a INTERSECTION b 关系\n",
    "https://en.wikipedia.org/wiki/DE-9IM\n",
    "\n",
    "![20230129101132](https://appen-pe.oss-cn-shanghai.aliyuncs.com/imgupload/20230129101132.png)"
   ]
  },
  {
   "cell_type": "markdown",
   "id": "8b5c3059-6181-4117-93f1-548aa3e2bf59",
   "metadata": {},
   "source": [
    "### Touches\n",
    "$$\n",
    "\\begin{equation}\n",
    "    \\begin{bmatrix}\n",
    "    F & T & * \\\\\n",
    "    * & * & * \\\\\n",
    "    * & * & *\n",
    "    \\end{bmatrix}\n",
    "    \\begin{bmatrix}\n",
    "    F & * & * \\\\\n",
    "    T & * & * \\\\\n",
    "    * & * & *\n",
    "    \\end{bmatrix}\n",
    "    \\begin{bmatrix}\n",
    "    F & * & * \\\\\n",
    "    * & T & * \\\\\n",
    "    * & * & *\n",
    "    \\end{bmatrix}\n",
    "\\end{equation}\n",
    "$$\n",
    "\n",
    "pattern: $FT******* | F**T***** | F***T****$"
   ]
  },
  {
   "cell_type": "code",
   "execution_count": 4,
   "id": "7ab750af-ec66-475b-9ec2-deeea80b115f",
   "metadata": {},
   "outputs": [
    {
     "name": "stdout",
     "output_type": "stream",
     "text": [
      "F0FFFF102\n"
     ]
    }
   ],
   "source": [
    "im = Point(0, 0).relate(LineString([(0, 0), (1, 1)]))\n",
    "print(im)"
   ]
  },
  {
   "cell_type": "code",
   "execution_count": 7,
   "id": "11c841de-c052-42d8-81d4-929db085d1ae",
   "metadata": {},
   "outputs": [
    {
     "data": {
      "text/plain": [
       "True"
      ]
     },
     "execution_count": 7,
     "metadata": {},
     "output_type": "execute_result"
    }
   ],
   "source": [
    "point = Point(0.5, 0.5)\n",
    "square = Polygon([(0, 0), (0, 1), (1, 1), (1, 0)])\n",
    "square.relate_pattern(point, 'T*****FF*')"
   ]
  },
  {
   "cell_type": "code",
   "execution_count": 8,
   "id": "8318969c-6653-42cb-ad3a-7515e2678f80",
   "metadata": {},
   "outputs": [
    {
     "data": {
      "text/plain": [
       "True"
      ]
     },
     "execution_count": 8,
     "metadata": {},
     "output_type": "execute_result"
    }
   ],
   "source": [
    "point.within(square)"
   ]
  },
  {
   "cell_type": "code",
   "execution_count": 9,
   "id": "95c34b84-7194-41ef-8c18-7e9117528d08",
   "metadata": {},
   "outputs": [
    {
     "data": {
      "text/plain": [
       "'0FFFFF212'"
      ]
     },
     "execution_count": 9,
     "metadata": {},
     "output_type": "execute_result"
    }
   ],
   "source": [
    "point.relate(square)"
   ]
  },
  {
   "cell_type": "code",
   "execution_count": 10,
   "id": "2b4b6cf0-3cfc-4f2d-b0de-e39512525494",
   "metadata": {},
   "outputs": [
    {
     "data": {
      "text/plain": [
       "'0F2FF1FF2'"
      ]
     },
     "execution_count": 10,
     "metadata": {},
     "output_type": "execute_result"
    }
   ],
   "source": [
    "square.relate(point)"
   ]
  },
  {
   "cell_type": "markdown",
   "id": "8312cfcb-7bdb-4480-ac18-4d2da3ed6231",
   "metadata": {},
   "source": [
    "# 3. 空间计算"
   ]
  },
  {
   "cell_type": "markdown",
   "id": "286baf70-e343-411f-bacd-a1329b970510",
   "metadata": {},
   "source": [
    "### boundary\n",
    "几何对象的边集（拓扑维度减一）"
   ]
  },
  {
   "cell_type": "code",
   "execution_count": 24,
   "id": "9c80fa7e-93b5-4e97-a22b-2b7accafcea6",
   "metadata": {},
   "outputs": [
    {
     "data": {
      "image/svg+xml": [
       "<svg xmlns=\"http://www.w3.org/2000/svg\" xmlns:xlink=\"http://www.w3.org/1999/xlink\" width=\"100.0\" height=\"100.0\" viewBox=\"-1.08 -0.08 2.16 1.1600000000000001\" preserveAspectRatio=\"xMinYMin meet\"><g transform=\"matrix(1,0,0,-1,0,1.0)\"><g><circle cx=\"-1.0\" cy=\"0.0\" r=\"0.0648\" stroke=\"#555555\" stroke-width=\"0.0216\" fill=\"#66cc99\" opacity=\"0.6\" /><circle cx=\"0.0\" cy=\"0.0\" r=\"0.0648\" stroke=\"#555555\" stroke-width=\"0.0216\" fill=\"#66cc99\" opacity=\"0.6\" /><circle cx=\"1.0\" cy=\"0.0\" r=\"0.0648\" stroke=\"#555555\" stroke-width=\"0.0216\" fill=\"#66cc99\" opacity=\"0.6\" /><circle cx=\"1.0\" cy=\"1.0\" r=\"0.0648\" stroke=\"#555555\" stroke-width=\"0.0216\" fill=\"#66cc99\" opacity=\"0.6\" /></g></g></svg>"
      ],
      "text/plain": [
       "<MULTIPOINT (-1 0, 0 0, 1 0, 1 1)>"
      ]
     },
     "execution_count": 24,
     "metadata": {},
     "output_type": "execute_result"
    }
   ],
   "source": [
    "from shapely.geometry import Point, LineString, Polygon, MultiPoint, MultiLineString\n",
    "\n",
    "coords = [[(0, 0), (1, 1)], [(-1, 0), (1, 0)]]\n",
    "lines = MultiLineString(coords)\n",
    "lines.boundary"
   ]
  },
  {
   "cell_type": "code",
   "execution_count": 14,
   "id": "8e7eac9e-7543-4c4e-afa4-bde6eb200e03",
   "metadata": {},
   "outputs": [
    {
     "data": {
      "text/plain": [
       "[<POINT (-1 0)>, <POINT (0 0)>, <POINT (1 0)>, <POINT (1 1)>]"
      ]
     },
     "execution_count": 14,
     "metadata": {},
     "output_type": "execute_result"
    }
   ],
   "source": [
    "list(lines.boundary.geoms)"
   ]
  },
  {
   "cell_type": "markdown",
   "id": "2a231435-e56e-49d3-bde3-27a7709bf7ac",
   "metadata": {},
   "source": [
    "### centroid\n",
    "geometric centroid point"
   ]
  },
  {
   "cell_type": "code",
   "execution_count": 16,
   "id": "f51b5de7-2e22-4d19-9c13-e4dab5c46516",
   "metadata": {},
   "outputs": [
    {
     "data": {
      "image/svg+xml": [
       "<svg xmlns=\"http://www.w3.org/2000/svg\" xmlns:xlink=\"http://www.w3.org/1999/xlink\" width=\"100.0\" height=\"100.0\" viewBox=\"-0.5 -0.5 2.0 2.0\" preserveAspectRatio=\"xMinYMin meet\"><g transform=\"matrix(1,0,0,-1,0,1.0)\"><circle cx=\"0.5\" cy=\"0.5\" r=\"0.06\" stroke=\"#555555\" stroke-width=\"0.02\" fill=\"#66cc99\" opacity=\"0.6\" /></g></svg>"
      ],
      "text/plain": [
       "<POINT (0.5 0.5)>"
      ]
     },
     "execution_count": 16,
     "metadata": {},
     "output_type": "execute_result"
    }
   ],
   "source": [
    "LineString([(0, 0), (1, 1)]).centroid"
   ]
  },
  {
   "cell_type": "markdown",
   "id": "844f1b60-1f8d-47de-bd01-7a8078d3ba70",
   "metadata": {},
   "source": [
    "### 点集运算：差集，交集，对称差集，并集"
   ]
  },
  {
   "cell_type": "code",
   "execution_count": 22,
   "id": "b615f591-a7b4-488a-991e-141ca009902e",
   "metadata": {},
   "outputs": [
    {
     "data": {
      "image/svg+xml": [
       "<svg xmlns=\"http://www.w3.org/2000/svg\" xmlns:xlink=\"http://www.w3.org/1999/xlink\" width=\"100.0\" height=\"100.0\" viewBox=\"-0.04 -0.04 1.08 1.08\" preserveAspectRatio=\"xMinYMin meet\"><g transform=\"matrix(1,0,0,-1,0,1.0)\"><g><circle cx=\"0.0\" cy=\"0.0\" r=\"0.0324\" stroke=\"#555555\" stroke-width=\"0.0108\" fill=\"#66cc99\" opacity=\"0.6\" /><circle cx=\"1.0\" cy=\"1.0\" r=\"0.0324\" stroke=\"#555555\" stroke-width=\"0.0108\" fill=\"#66cc99\" opacity=\"0.6\" /></g></g></svg>"
      ],
      "text/plain": [
       "<MULTIPOINT (0 0, 1 1)>"
      ]
     },
     "execution_count": 22,
     "metadata": {},
     "output_type": "execute_result"
    }
   ],
   "source": [
    "Point(1, 1).buffer(1.5) # 圆心(1,1)，半径为1.5\n",
    "Point(2, 1).buffer(1.5)\n",
    "a.difference(b)\n",
    "a.intersection(b)\n",
    "a.symmetric_difference(b)\n",
    "a.union(b)\n",
    "a.boundary.union(b.boundary)"
   ]
  },
  {
   "cell_type": "markdown",
   "id": "7d9f88f3-d3db-4516-944e-3aa1329e35be",
   "metadata": {},
   "source": [
    "### convex_hull\n",
    "凸包"
   ]
  },
  {
   "cell_type": "code",
   "execution_count": 25,
   "id": "c6162387-5bef-472a-a9ec-3e2a25c8e00c",
   "metadata": {},
   "outputs": [
    {
     "data": {
      "image/svg+xml": [
       "<svg xmlns=\"http://www.w3.org/2000/svg\" xmlns:xlink=\"http://www.w3.org/1999/xlink\" width=\"100.0\" height=\"100.0\" viewBox=\"-0.04 -0.04 1.08 1.08\" preserveAspectRatio=\"xMinYMin meet\"><g transform=\"matrix(1,0,0,-1,0,1.0)\"><polyline fill=\"none\" stroke=\"#66cc99\" stroke-width=\"0.0216\" points=\"0.0,0.0 1.0,1.0\" opacity=\"0.8\" /></g></svg>"
      ],
      "text/plain": [
       "<LINESTRING (0 0, 1 1)>"
      ]
     },
     "execution_count": 25,
     "metadata": {},
     "output_type": "execute_result"
    }
   ],
   "source": [
    "MultiPoint([(0, 0), (1, 1)]).convex_hull"
   ]
  },
  {
   "cell_type": "code",
   "execution_count": 26,
   "id": "55f85d53-57f9-4e72-a3dd-b60fd370c958",
   "metadata": {},
   "outputs": [
    {
     "data": {
      "image/svg+xml": [
       "<svg xmlns=\"http://www.w3.org/2000/svg\" xmlns:xlink=\"http://www.w3.org/1999/xlink\" width=\"100.0\" height=\"100.0\" viewBox=\"-0.08 -1.08 1.1600000000000001 2.16\" preserveAspectRatio=\"xMinYMin meet\"><g transform=\"matrix(1,0,0,-1,0,0.0)\"><path fill-rule=\"evenodd\" fill=\"#66cc99\" stroke=\"#555555\" stroke-width=\"0.0432\" opacity=\"0.6\" d=\"M 1.0,-1.0 L 0.0,0.0 L 1.0,1.0 L 1.0,-1.0 z\" /></g></svg>"
      ],
      "text/plain": [
       "<POLYGON ((1 -1, 0 0, 1 1, 1 -1))>"
      ]
     },
     "execution_count": 26,
     "metadata": {},
     "output_type": "execute_result"
    }
   ],
   "source": [
    "MultiPoint([(0, 0), (1, 1), (1, -1)]).convex_hull"
   ]
  },
  {
   "cell_type": "markdown",
   "id": "64ec11e2-92d4-4c99-a67a-0537ec111edd",
   "metadata": {},
   "source": [
    "### envelope\n",
    "求bbox"
   ]
  },
  {
   "cell_type": "code",
   "execution_count": 28,
   "id": "07e44afd-e803-4478-a11e-718c3a0ab07d",
   "metadata": {},
   "outputs": [
    {
     "data": {
      "image/svg+xml": [
       "<svg xmlns=\"http://www.w3.org/2000/svg\" xmlns:xlink=\"http://www.w3.org/1999/xlink\" width=\"100.0\" height=\"100.0\" viewBox=\"-0.04 -0.04 1.08 1.08\" preserveAspectRatio=\"xMinYMin meet\"><g transform=\"matrix(1,0,0,-1,0,1.0)\"><path fill-rule=\"evenodd\" fill=\"#66cc99\" stroke=\"#555555\" stroke-width=\"0.0216\" opacity=\"0.6\" d=\"M 0.0,0.0 L 1.0,0.0 L 1.0,1.0 L 0.0,1.0 L 0.0,0.0 z\" /></g></svg>"
      ],
      "text/plain": [
       "<POLYGON ((0 0, 1 0, 1 1, 0 1, 0 0))>"
      ]
     },
     "execution_count": 28,
     "metadata": {},
     "output_type": "execute_result"
    }
   ],
   "source": [
    "MultiPoint([(0, 0), (1, 1)]).envelope"
   ]
  },
  {
   "cell_type": "markdown",
   "id": "c3a9b32e-df73-4130-a4fd-398fe62acfe9",
   "metadata": {},
   "source": [
    "### minimum_rotated_rectangle\n",
    "求最小包围矩形(带旋转角度)"
   ]
  },
  {
   "cell_type": "code",
   "execution_count": 30,
   "id": "36700e46-2bf3-41fa-9ab1-0aa779da35c9",
   "metadata": {},
   "outputs": [
    {
     "data": {
      "image/svg+xml": [
       "<svg xmlns=\"http://www.w3.org/2000/svg\" xmlns:xlink=\"http://www.w3.org/1999/xlink\" width=\"100.0\" height=\"100.0\" viewBox=\"-0.2635294117647059 -0.08705882352941176 2.3505882352941176 1.3800000000000001\" preserveAspectRatio=\"xMinYMin meet\"><g transform=\"matrix(1,0,0,-1,0,1.2058823529411764)\"><path fill-rule=\"evenodd\" fill=\"#66cc99\" stroke=\"#555555\" stroke-width=\"0.04701176470588235\" opacity=\"0.6\" d=\"M 2.0,0.5 L 1.8235294117647058,1.2058823529411764 L -0.17647058823529413,0.7058823529411764 L 0.0,0.0 L 2.0,0.5 z\" /></g></svg>"
      ],
      "text/plain": [
       "<POLYGON ((2 0.5, 1.824 1.206, -0.176 0.706, 0 0, 2 0.5))>"
      ]
     },
     "execution_count": 30,
     "metadata": {},
     "output_type": "execute_result"
    }
   ],
   "source": [
    "MultiPoint([(0,0),(1,1),(2,0.5)]).minimum_rotated_rectangle"
   ]
  },
  {
   "cell_type": "markdown",
   "id": "0473dcaa-0afc-4aa9-bf77-4fd3c0b62543",
   "metadata": {},
   "source": [
    "# 4. 批处理"
   ]
  },
  {
   "cell_type": "markdown",
   "id": "fe636f5e-0558-4788-b59c-fef35cda0711",
   "metadata": {},
   "source": [
    "### prep\n",
    "测试一个多边形含有多个点，当点集的数量很大时，推荐使用prep"
   ]
  },
  {
   "cell_type": "code",
   "execution_count": 33,
   "id": "42f3a4a3-ab98-41f5-842b-2f3ef812223e",
   "metadata": {},
   "outputs": [],
   "source": [
    "from shapely.prepared import prep\n",
    "points = [...] # large list of points\n",
    "polygon = Point(0.0, 0.0).buffer(1.0)\n",
    "prepared_polygon = prep(polygon)\n",
    "hits = filter(prepared_polygon.contains, points)"
   ]
  },
  {
   "cell_type": "markdown",
   "id": "8617377d-4f90-42ad-9f22-7d90eb09d6ac",
   "metadata": {},
   "source": [
    "# 5. 诊断"
   ]
  },
  {
   "cell_type": "markdown",
   "id": "9eb17131-951f-4510-a733-211ddf51dcf9",
   "metadata": {},
   "source": [
    "### explain_validity\n",
    "输出多边形valid诊断信息"
   ]
  },
  {
   "cell_type": "code",
   "execution_count": 43,
   "id": "438d6756-1424-431f-83b3-5b9fd08e3682",
   "metadata": {},
   "outputs": [
    {
     "name": "stdout",
     "output_type": "stream",
     "text": [
      "False\n",
      "Ring Self-intersection[1 1]\n"
     ]
    }
   ],
   "source": [
    "from shapely.validation import explain_validity\n",
    "\n",
    "coords = [(0, 0), (0, 2), (1, 1), (2, 2), (2, 0), (1, 1), (0, 0)]\n",
    "p = Polygon(coords)\n",
    "print(p.is_valid)\n",
    "print(explain_validity(p))"
   ]
  },
  {
   "cell_type": "markdown",
   "id": "2e4344ea-1ef1-46df-90c3-38e3addea338",
   "metadata": {},
   "source": [
    "### make_valid\n",
    "当输入的多边形是invalid的，将分割成多个valid对象返回"
   ]
  },
  {
   "cell_type": "code",
   "execution_count": 49,
   "id": "d7867b3c-d933-47c8-995c-ecb5cfc2d43c",
   "metadata": {},
   "outputs": [
    {
     "data": {
      "text/plain": [
       "[<POLYGON ((1 1, 0 0, 0 2, 1 1))>, <POLYGON ((2 0, 1 1, 2 2, 2 0))>]"
      ]
     },
     "execution_count": 49,
     "metadata": {},
     "output_type": "execute_result"
    }
   ],
   "source": [
    "from shapely.validation import make_valid\n",
    "\n",
    "coords = [(0, 0), (0, 2), (1, 1), (2, 2), (2, 0), (1, 1), (0, 0)]\n",
    "p = Polygon(coords)\n",
    "q = make_valid(p)\n",
    "list(q.geoms)"
   ]
  },
  {
   "cell_type": "code",
   "execution_count": 50,
   "id": "86d75e2c-2ee2-448a-8f08-0178bed7aff7",
   "metadata": {},
   "outputs": [
    {
     "data": {
      "text/plain": [
       "[<POLYGON ((2 0, 0 0, 0 1, 2 0))>, <LINESTRING (0 2, 0 1)>]"
      ]
     },
     "execution_count": 50,
     "metadata": {},
     "output_type": "execute_result"
    }
   ],
   "source": [
    "coords = [(0, 2), (0, 1), (2, 0), (0, 0), (0, 2)]\n",
    "p = Polygon(coords)\n",
    "q = make_valid(p)\n",
    "list(q.geoms)"
   ]
  },
  {
   "cell_type": "markdown",
   "id": "8abc5918-3af4-499d-a685-ea273c4f5652",
   "metadata": {},
   "source": []
  },
  {
   "cell_type": "code",
   "execution_count": null,
   "id": "862757c5-20a2-4463-9563-32d9c8f97cd3",
   "metadata": {},
   "outputs": [],
   "source": []
  }
 ],
 "metadata": {
  "kernelspec": {
   "display_name": "Python 3 (ipykernel)",
   "language": "python",
   "name": "python3"
  },
  "language_info": {
   "codemirror_mode": {
    "name": "ipython",
    "version": 3
   },
   "file_extension": ".py",
   "mimetype": "text/x-python",
   "name": "python",
   "nbconvert_exporter": "python",
   "pygments_lexer": "ipython3",
   "version": "3.7.7"
  },
  "vscode": {
   "interpreter": {
    "hash": "5109d816b82be14675a6b11f8e0f0d2e80f029176ed3710d54e125caa8520dfd"
   }
  }
 },
 "nbformat": 4,
 "nbformat_minor": 5
}
